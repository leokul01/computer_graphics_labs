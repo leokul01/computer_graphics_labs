{
 "cells": [
  {
   "cell_type": "code",
   "execution_count": 28,
   "metadata": {},
   "outputs": [],
   "source": [
    "import time\n",
    "from math import pi, cos, sin\n",
    "\n",
    "import meshcat\n",
    "from meshcat.geometry import Box, Sphere\n",
    "import numpy as np"
   ]
  },
  {
   "cell_type": "code",
   "execution_count": 9,
   "metadata": {},
   "outputs": [
    {
     "name": "stdout",
     "output_type": "stream",
     "text": [
      "You can open the visualizer by visiting the following URL:\n",
      "http://127.0.0.1:7000/static/\n"
     ]
    }
   ],
   "source": [
    "vis = meshcat.Visualizer()"
   ]
  },
  {
   "cell_type": "code",
   "execution_count": 10,
   "metadata": {},
   "outputs": [
    {
     "data": {
      "text/plain": [
       "<Visualizer using: <meshcat.visualizer.ViewerWindow object at 0x113d750d0> at path: <meshcat.path.Path object at 0x113d75890>>"
      ]
     },
     "execution_count": 10,
     "metadata": {},
     "output_type": "execute_result"
    }
   ],
   "source": [
    "vis.open()"
   ]
  },
  {
   "cell_type": "code",
   "execution_count": 4,
   "metadata": {},
   "outputs": [],
   "source": [
    "vis['box'].set_object(Box([1, 1, 1]))\n",
    "# vis['tetrahedron'].set_object(DaeMeshGeometry())\n",
    "\n",
    "# To translate somewhere\n",
    "# vis[\"box1\"].set_transform(tf.translation_matrix([0, 0, 0]))"
   ]
  },
  {
   "cell_type": "code",
   "execution_count": 5,
   "metadata": {},
   "outputs": [],
   "source": [
    "a, b, c = 1, 1, 0\n",
    "l, m, n = 0, 1, 1\n",
    "phi = 2*pi\n",
    "\n",
    "def cat_mats(*mats):\n",
    "    A = mats[0]\n",
    "    for mat in mats[1:]:\n",
    "        A = np.dot(A, mat)\n",
    "    return A\n",
    "\n",
    "def calc_A(phi):\n",
    "    A1 = np.array([\n",
    "    [1, 0, 0, -a],\n",
    "    [0, 1, 0, -b],\n",
    "    [0, 0, 1, -c],\n",
    "    [0, 0, 0, 1]\n",
    "    ], dtype=np.float64)\n",
    "    A2 = np.array([\n",
    "        [l, m, n, 0],\n",
    "        [0, -n, m, 0],\n",
    "        [m**2+n**2, -m*l, -n*l, 0],\n",
    "        [0, 0, 0, 1]\n",
    "    ], dtype=np.float64)\n",
    "    A3 = np.array([\n",
    "        [1, 0, 0, 0],\n",
    "        [0, cos(phi), -sin(phi), 0],\n",
    "        [0, sin(phi), cos(phi), 0],\n",
    "        [0, 0, 0, 1]\n",
    "    ], dtype=np.float64)\n",
    "    A4 = np.linalg.inv(A2)\n",
    "    A5 = np.array([\n",
    "        [1, 0, 0, a],\n",
    "        [0, 1, 0, b],\n",
    "        [0, 0, 1, c],\n",
    "        [0, 0, 0, 1]\n",
    "    ], dtype=np.float64)\n",
    "    A = cat_mats(A5, A4, A3, A2, A1)\n",
    "    return A\n",
    "    "
   ]
  },
  {
   "cell_type": "code",
   "execution_count": 6,
   "metadata": {},
   "outputs": [
    {
     "ename": "KeyboardInterrupt",
     "evalue": "",
     "output_type": "error",
     "traceback": [
      "\u001b[0;31m---------------------------------------------------------------------------\u001b[0m",
      "\u001b[0;31mKeyboardInterrupt\u001b[0m                         Traceback (most recent call last)",
      "\u001b[0;32m<ipython-input-6-9a2e89a6d83e>\u001b[0m in \u001b[0;36m<module>\u001b[0;34m\u001b[0m\n\u001b[1;32m      2\u001b[0m     \u001b[0;32mfor\u001b[0m \u001b[0mtheta\u001b[0m \u001b[0;32min\u001b[0m \u001b[0mnp\u001b[0m\u001b[0;34m.\u001b[0m\u001b[0mlinspace\u001b[0m\u001b[0;34m(\u001b[0m\u001b[0;36m0\u001b[0m\u001b[0;34m,\u001b[0m \u001b[0mphi\u001b[0m\u001b[0;34m,\u001b[0m \u001b[0;36m100\u001b[0m\u001b[0;34m)\u001b[0m\u001b[0;34m:\u001b[0m\u001b[0;34m\u001b[0m\u001b[0;34m\u001b[0m\u001b[0m\n\u001b[1;32m      3\u001b[0m         \u001b[0mvis\u001b[0m\u001b[0;34m[\u001b[0m\u001b[0;34m\"box1\"\u001b[0m\u001b[0;34m]\u001b[0m\u001b[0;34m.\u001b[0m\u001b[0mset_transform\u001b[0m\u001b[0;34m(\u001b[0m\u001b[0mcalc_A\u001b[0m\u001b[0;34m(\u001b[0m\u001b[0mtheta\u001b[0m\u001b[0;34m)\u001b[0m\u001b[0;34m)\u001b[0m\u001b[0;34m\u001b[0m\u001b[0;34m\u001b[0m\u001b[0m\n\u001b[0;32m----> 4\u001b[0;31m         \u001b[0mtime\u001b[0m\u001b[0;34m.\u001b[0m\u001b[0msleep\u001b[0m\u001b[0;34m(\u001b[0m\u001b[0;36m0.01\u001b[0m\u001b[0;34m)\u001b[0m\u001b[0;34m\u001b[0m\u001b[0;34m\u001b[0m\u001b[0m\n\u001b[0m",
      "\u001b[0;31mKeyboardInterrupt\u001b[0m: "
     ]
    }
   ],
   "source": [
    "while True:\n",
    "    for theta in np.linspace(0, phi, 100):\n",
    "        vis['box'].set_transform(calc_A(theta))\n",
    "        time.sleep(0.01)"
   ]
  },
  {
   "cell_type": "code",
   "execution_count": 27,
   "metadata": {},
   "outputs": [],
   "source": [
    "vis['tetrahedron'].delete()\n",
    "vis['box'].delete()"
   ]
  },
  {
   "cell_type": "code",
   "execution_count": null,
   "metadata": {},
   "outputs": [],
   "source": []
  }
 ],
 "metadata": {
  "kernelspec": {
   "display_name": "Python 3",
   "language": "python",
   "name": "python3"
  },
  "language_info": {
   "codemirror_mode": {
    "name": "ipython",
    "version": 3
   },
   "file_extension": ".py",
   "mimetype": "text/x-python",
   "name": "python",
   "nbconvert_exporter": "python",
   "pygments_lexer": "ipython3",
   "version": "3.7.4"
  }
 },
 "nbformat": 4,
 "nbformat_minor": 2
}
