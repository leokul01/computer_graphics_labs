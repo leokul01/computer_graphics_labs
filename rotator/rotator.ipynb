{
 "cells": [
  {
   "cell_type": "code",
   "execution_count": 21,
   "metadata": {},
   "outputs": [],
   "source": [
    "import time\n",
    "from math import pi, cos, sin, sqrt\n",
    "\n",
    "import meshcat\n",
    "from meshcat.geometry import Box\n",
    "import meshcat.transformations as tf\n",
    "import numpy as np"
   ]
  },
  {
   "cell_type": "code",
   "execution_count": 22,
   "metadata": {},
   "outputs": [
    {
     "name": "stdout",
     "output_type": "stream",
     "text": [
      "You can open the visualizer by visiting the following URL:\n",
      "http://127.0.0.1:7000/static/\n"
     ]
    }
   ],
   "source": [
    "vis = meshcat.Visualizer()"
   ]
  },
  {
   "cell_type": "code",
   "execution_count": 23,
   "metadata": {},
   "outputs": [
    {
     "data": {
      "text/plain": [
       "<Visualizer using: <meshcat.visualizer.ViewerWindow object at 0x114e340d0> at path: <meshcat.path.Path object at 0x114e34250>>"
      ]
     },
     "execution_count": 23,
     "metadata": {},
     "output_type": "execute_result"
    }
   ],
   "source": [
    "vis.open()"
   ]
  },
  {
   "cell_type": "code",
   "execution_count": 24,
   "metadata": {},
   "outputs": [],
   "source": [
    "vis['fig'].set_object(Box([1, 1, 1]))\n",
    "vis['fig_t'].set_object(Box([0.5, 0.5, 0.5]))\n",
    "\n",
    "# To translate somewhere\n",
    "# vis['fig'].set_transform(tf.translation_matrix([0, 3, 0]))"
   ]
  },
  {
   "cell_type": "code",
   "execution_count": 25,
   "metadata": {},
   "outputs": [],
   "source": [
    "a, b, c = 3, 0, 0\n",
    "l, m, n = 1/sqrt(3), 1/sqrt(3), 1/sqrt(3)\n",
    "phi = 2*pi\n",
    "\n",
    "def cat_mats(*mats):\n",
    "    A = mats[0]\n",
    "    for mat in mats[1:]:\n",
    "        A = np.dot(A, mat)\n",
    "    return A\n",
    "\n",
    "def calc_A(phi):\n",
    "    A1 = np.array([\n",
    "    [1, 0, 0, -a],\n",
    "    [0, 1, 0, -b],\n",
    "    [0, 0, 1, -c],\n",
    "    [0, 0, 0,  1]\n",
    "    ], dtype=np.float64)\n",
    "    A2 = np.array([\n",
    "        [l, m, n, 0],\n",
    "        [0, -n, m, 0],\n",
    "        [m**2+n**2, -m*l, -n*l, 0],\n",
    "        [0, 0, 0, 1]\n",
    "    ], dtype=np.float64)\n",
    "    A3 = np.array([\n",
    "        [1, 0, 0, 0],\n",
    "        [0, cos(phi), -sin(phi), 0],\n",
    "        [0, sin(phi), cos(phi), 0],\n",
    "        [0, 0, 0, 1]\n",
    "    ], dtype=np.float64)\n",
    "    A4 = np.linalg.inv(A2)\n",
    "    A5 = np.array([\n",
    "        [1, 0, 0, a],\n",
    "        [0, 1, 0, b],\n",
    "        [0, 0, 1, c],\n",
    "        [0, 0, 0, 1]\n",
    "    ], dtype=np.float64)\n",
    "    A = cat_mats(A5, A4, A3, A2, A1)\n",
    "    return A"
   ]
  },
  {
   "cell_type": "code",
   "execution_count": null,
   "metadata": {},
   "outputs": [],
   "source": [
    "while True:\n",
    "    for theta in np.linspace(0, phi, 100):\n",
    "        vis['fig_t'].set_transform(tf.rotation_matrix(theta, [-1, 1, 1], [a, b, c]))\n",
    "        vis['fig'].set_transform(calc_A(theta))\n",
    "        time.sleep(0.01)"
   ]
  }
 ],
 "metadata": {
  "kernelspec": {
   "display_name": "Python 3",
   "language": "python",
   "name": "python3"
  },
  "language_info": {
   "codemirror_mode": {
    "name": "ipython",
    "version": 3
   },
   "file_extension": ".py",
   "mimetype": "text/x-python",
   "name": "python",
   "nbconvert_exporter": "python",
   "pygments_lexer": "ipython3",
   "version": "3.7.4"
  }
 },
 "nbformat": 4,
 "nbformat_minor": 2
}
